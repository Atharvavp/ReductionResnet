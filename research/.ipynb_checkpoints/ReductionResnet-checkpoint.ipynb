{
 "cells": [
  {
   "cell_type": "markdown",
   "metadata": {
    "id": "p9Dvr8--rI7r"
   },
   "source": [
    "#Import Dependancies"
   ]
  },
  {
   "cell_type": "code",
   "execution_count": 19,
   "metadata": {
    "id": "CvxQgYxlHnIK"
   },
   "outputs": [],
   "source": [
    "import numpy as np\n",
    "%matplotlib inline \n",
    "import matplotlib.pyplot as plt\n",
    "import pandas as pd\n",
    "\n",
    "import os\n",
    "\n",
    "from PIL import Image\n",
    "from tqdm import tqdm\n",
    "import pdb\n",
    "\n",
    "import torch\n",
    "import torch.nn as nn\n",
    "from torch.utils.data import Dataset, dataloader\n",
    "from torchvision import datasets, models, transforms\n",
    "from torchsummary import summary\n"
   ]
  },
  {
   "cell_type": "code",
   "execution_count": 20,
   "metadata": {},
   "outputs": [],
   "source": [
    "torch.ops.load_library('../inference/src/build/lib.linux-x86_64-3.10/custom_average.cpython-310-x86_64-linux-gnu.so')"
   ]
  },
  {
   "cell_type": "code",
   "execution_count": 21,
   "metadata": {
    "colab": {
     "base_uri": "https://localhost:8080/"
    },
    "id": "If0_a-waJQVV",
    "outputId": "8884c007-012f-4d2c-b43a-05ec9d8dafa1"
   },
   "outputs": [],
   "source": [
    "#from google.colab import drive\n",
    "#drive.mount(\"/content/gdrive\")"
   ]
  },
  {
   "cell_type": "code",
   "execution_count": 22,
   "metadata": {
    "id": "pJ-49nybKt5N"
   },
   "outputs": [],
   "source": [
    "root_dir = \"images/\"\n",
    "\n",
    "image_folder = sorted(os.listdir(root_dir))\n",
    "images = [i for i in image_folder]\n",
    "\n",
    "df = pd.DataFrame()\n",
    "df['path'] = [x for x in images]\n",
    "\n",
    "df.to_csv('challenge_images.csv', header=None)"
   ]
  },
  {
   "cell_type": "markdown",
   "metadata": {
    "id": "u0MkBxQ3rr1V"
   },
   "source": [
    "#Setting-up Dataloader"
   ]
  },
  {
   "cell_type": "code",
   "execution_count": 23,
   "metadata": {
    "colab": {
     "base_uri": "https://localhost:8080/"
    },
    "id": "R9hBqX9DKzv2",
    "outputId": "1d6a40f4-5ae8-48c5-c54e-019a65e33277"
   },
   "outputs": [],
   "source": [
    "class dataset(Dataset):\n",
    "\n",
    "  def __init__(self, root_dir, dataframe, transform = None):\n",
    "    self.root_dir = root_dir\n",
    "    self.dataframe = dataframe\n",
    "    self.transform = transform\n",
    "\n",
    "  def __len__(self):\n",
    "    return(len(self.dataframe))\n",
    "\n",
    "  def __getitem__(self, idx):\n",
    "\n",
    "    image_path = os.path.join(self.root_dir, self.dataframe.iloc[idx, 0])\n",
    "    image = Image.open(image_path)\n",
    "\n",
    "    if self.transform:\n",
    "\n",
    "      image = self.transform(image)\n",
    "      return image\n",
    "\n",
    "data_transforms = {\n",
    "    'resize':\n",
    "    transforms.Compose([\n",
    "        transforms.Resize((224,224)),\n",
    "        transforms.ToTensor(),\n",
    "        transforms.Normalize(mean = [0.485, 0.456, 0.406], \n",
    "                             std = [0.229, 0.224, 0.225])\n",
    "    ])\n",
    "}\n",
    "\n",
    "image_datasets = {   \n",
    "    'resize' : \n",
    "        dataset(\n",
    "                dataframe = df,\n",
    "                root_dir = root_dir,\n",
    "                transform = data_transforms['resize']\n",
    "            )\n",
    "}\n",
    "\n",
    "dataloaders = {\n",
    "    'resize':\n",
    "    torch.utils.data.DataLoader(image_datasets['resize'],\n",
    "                                batch_size=64,\n",
    "                                shuffle=False,\n",
    "                                num_workers=8),  \n",
    "}"
   ]
  },
  {
   "cell_type": "code",
   "execution_count": 24,
   "metadata": {
    "colab": {
     "base_uri": "https://localhost:8080/"
    },
    "id": "sqtE5KVhr9Pu",
    "outputId": "8cb9bb80-40c5-43eb-8e2f-4ff1e5d6f6c6"
   },
   "outputs": [
    {
     "data": {
      "text/plain": [
       "device(type='cuda', index=0)"
      ]
     },
     "execution_count": 24,
     "metadata": {},
     "output_type": "execute_result"
    }
   ],
   "source": [
    "device = torch.device(\"cuda:0\" if torch.cuda.is_available() else \"cpu\")\n",
    "device"
   ]
  },
  {
   "cell_type": "markdown",
   "metadata": {
    "id": "S8lpiDPTryNT"
   },
   "source": [
    "#ReductionResnet Model"
   ]
  },
  {
   "cell_type": "code",
   "execution_count": 25,
   "metadata": {
    "id": "obaoslxqWaJz"
   },
   "outputs": [],
   "source": [
    "class ReductionResnet(nn.Module):\n",
    "  def __init__(self):\n",
    "    super(ReductionResnet, self).__init__()\n",
    "\n",
    "    self.model = models.resnet18(pretrained=True)\n",
    "    for param in self.model.parameters():\n",
    "      param.require_grad = False\n",
    "\n",
    "    self.primary_layers = nn.Sequential(*list(self.model.children())[:4])\n",
    "    self.layer1 = nn.Sequential(*list(self.model.children())[4:5])\n",
    "    self.avgpool1 = nn.AdaptiveAvgPool2d((1,1))\n",
    "    self.layer2 = nn.Sequential(*list(self.model.children())[5:6])\n",
    "    self.avgpool2 = nn.AdaptiveAvgPool2d((1,1))\n",
    "    self.layer3 = nn.Sequential(*list(self.model.children())[6:7])\n",
    "    self.avgpool3 = nn.AdaptiveAvgPool2d((1,1))\n",
    "    self.layer4 = nn.Sequential(*list(self.model.children())[7:8])\n",
    "    self.avgpool4 = nn.AdaptiveAvgPool2d((1,1))\n",
    "\n",
    "  def forward(self, x):\n",
    "    x = self.primary_layers(x)\n",
    "    x = self.layer1(x)\n",
    "    pool1 = self.avgpool1(x)\n",
    "    x = self.layer2(x)\n",
    "    pool2 = self.avgpool2(x)\n",
    "    x = self.layer3(x)\n",
    "    pool3 = self.avgpool3(x)\n",
    "    x = self.layer4(x)\n",
    "    pool4 = self.avgpool4(x)\n",
    "    reduced = self.Reduction(pool1, pool2, pool3, pool4)\n",
    "    return reduced\n",
    "\n",
    "  def Reduction(self, output1, output2, output3, output4):\n",
    "\n",
    "    self.pool = {}\n",
    "    self.pool['avgpool1'] = output1\n",
    "    self.pool['avgpool2'] = output2\n",
    "    self.pool['avgpool3'] = output3\n",
    "    self.pool['avgpool4'] = output4\n",
    "\n",
    "    for layer in ['avgpool1', 'avgpool2', 'avgpool3','avgpool4']:\n",
    "       b, c, h, w = self.pool[layer].shape\n",
    "       self.pool[layer] = self.pool[layer].reshape(b, c*h*w)\n",
    "        \n",
    "    #embedding = torch.ops.custom_namespace.custom_average(self.pool['avgpool1'], self.pool['avgpool2'], self.pool['avgpool3'], self.pool['avgpool4'])\n",
    "\n",
    "    return self.pool\n",
    "      "
   ]
  },
  {
   "cell_type": "code",
   "execution_count": 26,
   "metadata": {},
   "outputs": [],
   "source": [
    "model = ReductionResnet()\n",
    "for image in dataloaders['resize']:\n",
    "  output = model(image)"
   ]
  },
  {
   "cell_type": "code",
   "execution_count": 27,
   "metadata": {},
   "outputs": [
    {
     "data": {
      "text/plain": [
       "torch.Size([512])"
      ]
     },
     "execution_count": 27,
     "metadata": {},
     "output_type": "execute_result"
    }
   ],
   "source": [
    "output['avgpool4'][0].shape"
   ]
  },
  {
   "cell_type": "code",
   "execution_count": null,
   "metadata": {},
   "outputs": [],
   "source": [
    "similairty = 0\n",
    "similarity_idx = {}\n",
    "\n",
    "cos = nn.CosineSimilarity(dim=0, eps=1e-6)\n",
    "\n",
    "for tensor1 in range(len(output['avgpool4'])):\n",
    "    similarity_idx[tensor1] = 0\n",
    "    \n",
    "    for tensor2 in range(len(output['avgpool4'])):\n",
    "        \n",
    "        similarity = cos(output['avgpool4'][tensor1], output['avgpool4'][tensor2])\n",
    "        if (similarity.item() > 0.75):\n",
    "            similarity_idx[tensor1] += 1\n",
    "            \n",
    "            \n",
    "    "
   ]
  },
  {
   "cell_type": "code",
   "execution_count": null,
   "metadata": {},
   "outputs": [],
   "source": [
    "similarity_idx"
   ]
  },
  {
   "cell_type": "markdown",
   "metadata": {
    "id": "mG7_ltuXsQ_m"
   },
   "source": [
    "#Exporting to Onnx"
   ]
  },
  {
   "cell_type": "code",
   "execution_count": null,
   "metadata": {
    "colab": {
     "base_uri": "https://localhost:8080/"
    },
    "id": "SsnUrXBBdeA0",
    "outputId": "d9c95787-9fec-4e4b-a1d0-473f40e21bd9"
   },
   "outputs": [],
   "source": [
    "def reduction(g, input_64, input_128, input_256, input_512):\n",
    "    return g.op(\"mydomain::custom_average\", input_64, input_128, input_256, input_512)\n",
    "\n",
    "from torch.onnx import register_custom_op_symbolic\n",
    "register_custom_op_symbolic('custom_namespace::custom_average', reduction, 9)\n",
    "\n",
    "dummy_input = torch.randn(50, 3, 224, 224)\n",
    "model = ReductionResnet()\n",
    "\n",
    "for image in dataloaders['resize']:\n",
    "  output = model(image)\n",
    "\n",
    "torch.onnx.export(model, \n",
    "                  dummy_input, \n",
    "                  'ReductionResnet.onnx',\n",
    "                   opset_version=9,\n",
    "                   verbose = True, \n",
    "                   input_names=['avgpool1', 'avgpool2', 'avgpool3', 'avgpool4'],\n",
    "                   output_names=['embedding'],\n",
    "                   custom_opsets={'custom_namespace': 2})"
   ]
  }
 ],
 "metadata": {
  "colab": {
   "name": "ReductionResnet.ipynb",
   "provenance": []
  },
  "kernelspec": {
   "display_name": "Python 3 (ipykernel)",
   "language": "python",
   "name": "python3"
  },
  "language_info": {
   "codemirror_mode": {
    "name": "ipython",
    "version": 3
   },
   "file_extension": ".py",
   "mimetype": "text/x-python",
   "name": "python",
   "nbconvert_exporter": "python",
   "pygments_lexer": "ipython3",
   "version": "3.10.4"
  }
 },
 "nbformat": 4,
 "nbformat_minor": 1
}
