{
 "cells": [
  {
   "cell_type": "markdown",
   "metadata": {
    "id": "p9Dvr8--rI7r"
   },
   "source": [
    "#Import Dependancies"
   ]
  },
  {
   "cell_type": "code",
   "execution_count": 1,
   "metadata": {
    "id": "CvxQgYxlHnIK"
   },
   "outputs": [],
   "source": [
    "import numpy as np\n",
    "%matplotlib inline \n",
    "import matplotlib.pyplot as plt\n",
    "import pandas as pd\n",
    "\n",
    "import os\n",
    "\n",
    "from PIL import Image\n",
    "from tqdm import tqdm\n",
    "import pdb\n",
    "\n",
    "import torch\n",
    "import torch.nn as nn\n",
    "from torch.utils.data import Dataset, dataloader\n",
    "from torchvision import datasets, models, transforms\n",
    "from torchsummary import summary\n"
   ]
  },
  {
   "cell_type": "code",
   "execution_count": 2,
   "metadata": {},
   "outputs": [],
   "source": [
    "torch.ops.load_library('/home/atharva/reduction/build/lib.linux-x86_64-3.10/custom_average.cpython-310-x86_64-linux-gnu.so')"
   ]
  },
  {
   "cell_type": "code",
   "execution_count": 3,
   "metadata": {
    "colab": {
     "base_uri": "https://localhost:8080/"
    },
    "id": "If0_a-waJQVV",
    "outputId": "8884c007-012f-4d2c-b43a-05ec9d8dafa1"
   },
   "outputs": [],
   "source": [
    "#from google.colab import drive\n",
    "#drive.mount(\"/content/gdrive\")"
   ]
  },
  {
   "cell_type": "code",
   "execution_count": 4,
   "metadata": {
    "id": "pJ-49nybKt5N"
   },
   "outputs": [],
   "source": [
    "root_dir = \"/home/atharva/Adagrad/Challenge_images/\"\n",
    "\n",
    "image_folder = sorted(os.listdir(root_dir))\n",
    "images = [i for i in image_folder]\n",
    "\n",
    "df = pd.DataFrame()\n",
    "df['path'] = [x for x in images]\n",
    "\n",
    "df.to_csv('challenge_images.csv', header=None)"
   ]
  },
  {
   "cell_type": "markdown",
   "metadata": {
    "id": "u0MkBxQ3rr1V"
   },
   "source": [
    "#Setting-up Dataloader"
   ]
  },
  {
   "cell_type": "code",
   "execution_count": 5,
   "metadata": {
    "colab": {
     "base_uri": "https://localhost:8080/"
    },
    "id": "R9hBqX9DKzv2",
    "outputId": "1d6a40f4-5ae8-48c5-c54e-019a65e33277"
   },
   "outputs": [],
   "source": [
    "class dataset(Dataset):\n",
    "\n",
    "  def __init__(self, root_dir, dataframe, transform = None):\n",
    "    self.root_dir = root_dir\n",
    "    self.dataframe = dataframe\n",
    "    self.transform = transform\n",
    "\n",
    "  def __len__(self):\n",
    "    return(len(self.dataframe))\n",
    "\n",
    "  def __getitem__(self, idx):\n",
    "\n",
    "    image_path = os.path.join(self.root_dir, self.dataframe.iloc[idx, 0])\n",
    "    image = Image.open(image_path)\n",
    "\n",
    "    if self.transform:\n",
    "\n",
    "      image = self.transform(image)\n",
    "      return image\n",
    "\n",
    "data_transforms = {\n",
    "    'resize':\n",
    "    transforms.Compose([\n",
    "        transforms.Resize((224,224)),\n",
    "        transforms.ToTensor(),\n",
    "        transforms.Normalize(mean = [0.485, 0.456, 0.406], \n",
    "                             std = [0.229, 0.224, 0.225])\n",
    "    ])\n",
    "}\n",
    "\n",
    "image_datasets = {   \n",
    "    'resize' : \n",
    "        dataset(\n",
    "                dataframe = df,\n",
    "                root_dir = root_dir,\n",
    "                transform = data_transforms['resize']\n",
    "            )\n",
    "}\n",
    "\n",
    "dataloaders = {\n",
    "    'resize':\n",
    "    torch.utils.data.DataLoader(image_datasets['resize'],\n",
    "                                batch_size=64,\n",
    "                                shuffle=False,\n",
    "                                num_workers=8),  \n",
    "}"
   ]
  },
  {
   "cell_type": "code",
   "execution_count": 6,
   "metadata": {
    "colab": {
     "base_uri": "https://localhost:8080/"
    },
    "id": "sqtE5KVhr9Pu",
    "outputId": "8cb9bb80-40c5-43eb-8e2f-4ff1e5d6f6c6"
   },
   "outputs": [
    {
     "data": {
      "text/plain": [
       "device(type='cuda', index=0)"
      ]
     },
     "execution_count": 6,
     "metadata": {},
     "output_type": "execute_result"
    }
   ],
   "source": [
    "device = torch.device(\"cuda:0\" if torch.cuda.is_available() else \"cpu\")\n",
    "device"
   ]
  },
  {
   "cell_type": "markdown",
   "metadata": {
    "id": "S8lpiDPTryNT"
   },
   "source": [
    "#ReductionResnet Model"
   ]
  },
  {
   "cell_type": "code",
   "execution_count": 41,
   "metadata": {
    "id": "obaoslxqWaJz"
   },
   "outputs": [],
   "source": [
    "class ReductionResnet(nn.Module):\n",
    "  def __init__(self):\n",
    "    super(ReductionResnet, self).__init__()\n",
    "\n",
    "    self.model = models.resnet18(pretrained=True)\n",
    "    for param in self.model.parameters():\n",
    "      param.require_grad = False\n",
    "\n",
    "    self.primary_layers = nn.Sequential(*list(self.model.children())[:4])\n",
    "    self.layer1 = nn.Sequential(*list(self.model.children())[4:5])\n",
    "    self.avgpool1 = nn.AdaptiveAvgPool2d((1,1))\n",
    "    self.layer2 = nn.Sequential(*list(self.model.children())[5:6])\n",
    "    self.avgpool2 = nn.AdaptiveAvgPool2d((1,1))\n",
    "    self.layer3 = nn.Sequential(*list(self.model.children())[6:7])\n",
    "    self.avgpool3 = nn.AdaptiveAvgPool2d((1,1))\n",
    "    self.layer4 = nn.Sequential(*list(self.model.children())[7:8])\n",
    "    self.avgpool4 = nn.AdaptiveAvgPool2d((1,1))\n",
    "\n",
    "  def forward(self, x):\n",
    "    x = self.primary_layers(x)\n",
    "    x = self.layer1(x)\n",
    "    pool1 = self.avgpool1(x)\n",
    "    x = self.layer2(x)\n",
    "    pool2 = self.avgpool2(x)\n",
    "    x = self.layer3(x)\n",
    "    pool3 = self.avgpool3(x)\n",
    "    x = self.layer4(x)\n",
    "    pool4 = self.avgpool4(x)\n",
    "    reduced = self.Reduction(pool1, pool2, pool3, pool4)\n",
    "    return reduced\n",
    "\n",
    "  def Reduction(self, output1, output2, output3, output4):\n",
    "\n",
    "    self.pool = {}\n",
    "    self.pool['avgpool1'] = output1\n",
    "    self.pool['avgpool2'] = output2\n",
    "    self.pool['avgpool3'] = output3\n",
    "    self.pool['avgpool4'] = output4\n",
    "\n",
    "    for layer in ['avgpool1', 'avgpool2', 'avgpool3','avgpool4']:\n",
    "       b, c, h, w = self.pool[layer].shape\n",
    "       self.pool[layer] = self.pool[layer].reshape(b, c*h*w)\n",
    "        \n",
    "    #embedding = torch.ops.custom_namespace.custom_average(self.pool['avgpool1'], self.pool['avgpool2'], self.pool['avgpool3'], self.pool['avgpool4'])\n",
    "\n",
    "    return self.pool\n",
    "      "
   ]
  },
  {
   "cell_type": "code",
   "execution_count": 42,
   "metadata": {},
   "outputs": [],
   "source": [
    "model = ReductionResnet()\n",
    "for image in dataloaders['resize']:\n",
    "  output = model(image)"
   ]
  },
  {
   "cell_type": "code",
   "execution_count": 46,
   "metadata": {},
   "outputs": [
    {
     "data": {
      "text/plain": [
       "torch.Size([512])"
      ]
     },
     "execution_count": 46,
     "metadata": {},
     "output_type": "execute_result"
    }
   ],
   "source": [
    "output['avgpool4'][0].shape"
   ]
  },
  {
   "cell_type": "code",
   "execution_count": 38,
   "metadata": {
    "scrolled": true
   },
   "outputs": [
    {
     "data": {
      "text/plain": [
       "0.845493733882904"
      ]
     },
     "execution_count": 38,
     "metadata": {},
     "output_type": "execute_result"
    }
   ],
   "source": [
    "cos = nn.CosineSimilarity(dim=0, eps=1e-6)\n",
    "value = cos(output[20], output[1])\n",
    "value.item()"
   ]
  },
  {
   "cell_type": "code",
   "execution_count": 50,
   "metadata": {},
   "outputs": [
    {
     "name": "stdout",
     "output_type": "stream",
     "text": [
      "image number:0\n",
      "is similar to:0\n",
      "is similar to:13\n",
      "is similar to:45\n",
      "image number:1\n",
      "is similar to:1\n",
      "is similar to:4\n",
      "image number:2\n",
      "is similar to:2\n",
      "is similar to:7\n",
      "is similar to:47\n",
      "image number:3\n",
      "is similar to:3\n",
      "is similar to:39\n",
      "image number:4\n",
      "is similar to:1\n",
      "is similar to:4\n",
      "is similar to:8\n",
      "is similar to:37\n",
      "image number:5\n",
      "is similar to:5\n",
      "is similar to:28\n",
      "image number:6\n",
      "is similar to:6\n",
      "is similar to:15\n",
      "is similar to:25\n",
      "is similar to:42\n",
      "image number:7\n",
      "is similar to:2\n",
      "is similar to:7\n",
      "is similar to:23\n",
      "is similar to:37\n",
      "image number:8\n",
      "is similar to:4\n",
      "is similar to:8\n",
      "is similar to:37\n",
      "image number:9\n",
      "is similar to:9\n",
      "image number:10\n",
      "is similar to:10\n",
      "image number:11\n",
      "is similar to:11\n",
      "image number:12\n",
      "is similar to:12\n",
      "image number:13\n",
      "is similar to:0\n",
      "is similar to:13\n",
      "is similar to:21\n",
      "is similar to:37\n",
      "image number:14\n",
      "is similar to:14\n",
      "is similar to:18\n",
      "is similar to:29\n",
      "is similar to:37\n",
      "is similar to:44\n",
      "image number:15\n",
      "is similar to:6\n",
      "is similar to:15\n",
      "image number:16\n",
      "is similar to:16\n",
      "is similar to:44\n",
      "image number:17\n",
      "is similar to:17\n",
      "image number:18\n",
      "is similar to:14\n",
      "is similar to:18\n",
      "image number:19\n",
      "is similar to:19\n",
      "is similar to:34\n",
      "image number:20\n",
      "is similar to:20\n",
      "image number:21\n",
      "is similar to:13\n",
      "is similar to:21\n",
      "is similar to:45\n",
      "image number:22\n",
      "is similar to:22\n",
      "is similar to:35\n",
      "image number:23\n",
      "is similar to:7\n",
      "is similar to:23\n",
      "is similar to:29\n",
      "is similar to:37\n",
      "image number:24\n",
      "is similar to:24\n",
      "is similar to:39\n",
      "image number:25\n",
      "is similar to:6\n",
      "is similar to:25\n",
      "image number:26\n",
      "is similar to:26\n",
      "image number:27\n",
      "is similar to:27\n",
      "image number:28\n",
      "is similar to:5\n",
      "is similar to:28\n",
      "image number:29\n",
      "is similar to:14\n",
      "is similar to:23\n",
      "is similar to:29\n",
      "image number:30\n",
      "is similar to:30\n",
      "image number:31\n",
      "is similar to:31\n",
      "is similar to:46\n",
      "image number:32\n",
      "is similar to:32\n",
      "is similar to:46\n",
      "image number:33\n",
      "is similar to:33\n",
      "is similar to:38\n",
      "image number:34\n",
      "is similar to:19\n",
      "is similar to:34\n",
      "image number:35\n",
      "is similar to:22\n",
      "is similar to:35\n",
      "image number:36\n",
      "is similar to:36\n",
      "is similar to:49\n",
      "image number:37\n",
      "is similar to:4\n",
      "is similar to:7\n",
      "is similar to:8\n",
      "is similar to:13\n",
      "is similar to:14\n",
      "is similar to:23\n",
      "is similar to:37\n",
      "image number:38\n",
      "is similar to:33\n",
      "is similar to:38\n",
      "image number:39\n",
      "is similar to:3\n",
      "is similar to:24\n",
      "is similar to:39\n",
      "image number:40\n",
      "is similar to:40\n",
      "image number:41\n",
      "is similar to:41\n",
      "image number:42\n",
      "is similar to:6\n",
      "is similar to:42\n",
      "image number:43\n",
      "is similar to:43\n",
      "image number:44\n",
      "is similar to:14\n",
      "is similar to:16\n",
      "is similar to:44\n",
      "image number:45\n",
      "is similar to:0\n",
      "is similar to:21\n",
      "is similar to:45\n",
      "image number:46\n",
      "is similar to:31\n",
      "is similar to:32\n",
      "is similar to:46\n",
      "is similar to:47\n",
      "is similar to:48\n",
      "image number:47\n",
      "is similar to:2\n",
      "is similar to:46\n",
      "is similar to:47\n",
      "image number:48\n",
      "is similar to:46\n",
      "is similar to:48\n",
      "image number:49\n",
      "is similar to:36\n",
      "is similar to:49\n"
     ]
    }
   ],
   "source": [
    "similairty = 0\n",
    "similarity_idx = {}\n",
    "\n",
    "for tensor1 in range(len(output['avgpool4'])):\n",
    "    similarity_idx[tensor1] = 0\n",
    "    \n",
    "    for tensor2 in range(len(output['avgpool4'])):\n",
    "        \n",
    "        similarity = cos(output['avgpool4'][tensor1], output['avgpool4'][tensor2])\n",
    "        if (similarity.item() > 0.75):\n",
    "            similarity_idx[tensor1] += 1\n",
    "            \n",
    "            \n",
    "    "
   ]
  },
  {
   "cell_type": "code",
   "execution_count": 48,
   "metadata": {},
   "outputs": [
    {
     "data": {
      "text/plain": [
       "{0: 3,\n",
       " 1: 2,\n",
       " 2: 3,\n",
       " 3: 2,\n",
       " 4: 4,\n",
       " 5: 2,\n",
       " 6: 4,\n",
       " 7: 4,\n",
       " 8: 3,\n",
       " 9: 1,\n",
       " 10: 1,\n",
       " 11: 1,\n",
       " 12: 1,\n",
       " 13: 4,\n",
       " 14: 5,\n",
       " 15: 2,\n",
       " 16: 2,\n",
       " 17: 1,\n",
       " 18: 2,\n",
       " 19: 2,\n",
       " 20: 1,\n",
       " 21: 3,\n",
       " 22: 2,\n",
       " 23: 4,\n",
       " 24: 2,\n",
       " 25: 2,\n",
       " 26: 1,\n",
       " 27: 1,\n",
       " 28: 2,\n",
       " 29: 3,\n",
       " 30: 1,\n",
       " 31: 2,\n",
       " 32: 2,\n",
       " 33: 2,\n",
       " 34: 2,\n",
       " 35: 2,\n",
       " 36: 2,\n",
       " 37: 7,\n",
       " 38: 2,\n",
       " 39: 3,\n",
       " 40: 1,\n",
       " 41: 1,\n",
       " 42: 2,\n",
       " 43: 1,\n",
       " 44: 3,\n",
       " 45: 3,\n",
       " 46: 5,\n",
       " 47: 3,\n",
       " 48: 2,\n",
       " 49: 2}"
      ]
     },
     "execution_count": 48,
     "metadata": {},
     "output_type": "execute_result"
    }
   ],
   "source": [
    "similarity_idx"
   ]
  },
  {
   "cell_type": "markdown",
   "metadata": {
    "id": "mG7_ltuXsQ_m"
   },
   "source": [
    "#Exporting to Onnx"
   ]
  },
  {
   "cell_type": "code",
   "execution_count": 12,
   "metadata": {
    "colab": {
     "base_uri": "https://localhost:8080/"
    },
    "id": "SsnUrXBBdeA0",
    "outputId": "d9c95787-9fec-4e4b-a1d0-473f40e21bd9"
   },
   "outputs": [
    {
     "name": "stderr",
     "output_type": "stream",
     "text": [
      "WARNING: The shape inference of mydomain::custom_average type is missing, so it may result in wrong shape inference for the exported graph. Please consider adding it in symbolic function.\n",
      "WARNING: The shape inference of mydomain::custom_average type is missing, so it may result in wrong shape inference for the exported graph. Please consider adding it in symbolic function.\n",
      "WARNING: The shape inference of mydomain::custom_average type is missing, so it may result in wrong shape inference for the exported graph. Please consider adding it in symbolic function.\n",
      "[W export.cpp:527] Warning: Custom opset domain: 'custom_namespace' provided is not used in the model. Please verify custom opset domain names. (function GraphEncoder)\n"
     ]
    },
    {
     "name": "stdout",
     "output_type": "stream",
     "text": [
      "graph(%avgpool1 : Float(50, 3, 224, 224, strides=[150528, 50176, 224, 1], requires_grad=0, device=cpu),\n",
      "      %219 : Float(64, 3, 7, 7, strides=[147, 49, 7, 1], requires_grad=0, device=cpu),\n",
      "      %220 : Float(64, strides=[1], requires_grad=0, device=cpu),\n",
      "      %222 : Float(64, 64, 3, 3, strides=[576, 9, 3, 1], requires_grad=0, device=cpu),\n",
      "      %223 : Float(64, strides=[1], requires_grad=0, device=cpu),\n",
      "      %225 : Float(64, 64, 3, 3, strides=[576, 9, 3, 1], requires_grad=0, device=cpu),\n",
      "      %226 : Float(64, strides=[1], requires_grad=0, device=cpu),\n",
      "      %228 : Float(64, 64, 3, 3, strides=[576, 9, 3, 1], requires_grad=0, device=cpu),\n",
      "      %229 : Float(64, strides=[1], requires_grad=0, device=cpu),\n",
      "      %231 : Float(64, 64, 3, 3, strides=[576, 9, 3, 1], requires_grad=0, device=cpu),\n",
      "      %232 : Float(64, strides=[1], requires_grad=0, device=cpu),\n",
      "      %234 : Float(128, 64, 3, 3, strides=[576, 9, 3, 1], requires_grad=0, device=cpu),\n",
      "      %235 : Float(128, strides=[1], requires_grad=0, device=cpu),\n",
      "      %237 : Float(128, 128, 3, 3, strides=[1152, 9, 3, 1], requires_grad=0, device=cpu),\n",
      "      %238 : Float(128, strides=[1], requires_grad=0, device=cpu),\n",
      "      %240 : Float(128, 64, 1, 1, strides=[64, 1, 1, 1], requires_grad=0, device=cpu),\n",
      "      %241 : Float(128, strides=[1], requires_grad=0, device=cpu),\n",
      "      %243 : Float(128, 128, 3, 3, strides=[1152, 9, 3, 1], requires_grad=0, device=cpu),\n",
      "      %244 : Float(128, strides=[1], requires_grad=0, device=cpu),\n",
      "      %246 : Float(128, 128, 3, 3, strides=[1152, 9, 3, 1], requires_grad=0, device=cpu),\n",
      "      %247 : Float(128, strides=[1], requires_grad=0, device=cpu),\n",
      "      %249 : Float(256, 128, 3, 3, strides=[1152, 9, 3, 1], requires_grad=0, device=cpu),\n",
      "      %250 : Float(256, strides=[1], requires_grad=0, device=cpu),\n",
      "      %252 : Float(256, 256, 3, 3, strides=[2304, 9, 3, 1], requires_grad=0, device=cpu),\n",
      "      %253 : Float(256, strides=[1], requires_grad=0, device=cpu),\n",
      "      %255 : Float(256, 128, 1, 1, strides=[128, 1, 1, 1], requires_grad=0, device=cpu),\n",
      "      %256 : Float(256, strides=[1], requires_grad=0, device=cpu),\n",
      "      %258 : Float(256, 256, 3, 3, strides=[2304, 9, 3, 1], requires_grad=0, device=cpu),\n",
      "      %259 : Float(256, strides=[1], requires_grad=0, device=cpu),\n",
      "      %261 : Float(256, 256, 3, 3, strides=[2304, 9, 3, 1], requires_grad=0, device=cpu),\n",
      "      %262 : Float(256, strides=[1], requires_grad=0, device=cpu),\n",
      "      %264 : Float(512, 256, 3, 3, strides=[2304, 9, 3, 1], requires_grad=0, device=cpu),\n",
      "      %265 : Float(512, strides=[1], requires_grad=0, device=cpu),\n",
      "      %267 : Float(512, 512, 3, 3, strides=[4608, 9, 3, 1], requires_grad=0, device=cpu),\n",
      "      %268 : Float(512, strides=[1], requires_grad=0, device=cpu),\n",
      "      %270 : Float(512, 256, 1, 1, strides=[256, 1, 1, 1], requires_grad=0, device=cpu),\n",
      "      %271 : Float(512, strides=[1], requires_grad=0, device=cpu),\n",
      "      %273 : Float(512, 512, 3, 3, strides=[4608, 9, 3, 1], requires_grad=0, device=cpu),\n",
      "      %274 : Float(512, strides=[1], requires_grad=0, device=cpu),\n",
      "      %276 : Float(512, 512, 3, 3, strides=[4608, 9, 3, 1], requires_grad=0, device=cpu),\n",
      "      %277 : Float(512, strides=[1], requires_grad=0, device=cpu),\n",
      "      %280 : Long(2, strides=[1], requires_grad=0, device=cpu),\n",
      "      %283 : Long(2, strides=[1], requires_grad=0, device=cpu),\n",
      "      %286 : Long(2, strides=[1], requires_grad=0, device=cpu),\n",
      "      %289 : Long(2, strides=[1], requires_grad=0, device=cpu)):\n",
      "  %input.4 : Float(50, 64, 112, 112, strides=[802816, 12544, 112, 1], requires_grad=1, device=cpu) = onnx::Conv[dilations=[1, 1], group=1, kernel_shape=[7, 7], pads=[3, 3, 3, 3], strides=[2, 2]](%avgpool1, %219, %220) # /home/atharva/anaconda3/envs/torch-nightly/lib/python3.10/site-packages/torch/nn/modules/conv.py:442:0\n",
      "  %125 : Float(50, 64, 112, 112, strides=[802816, 12544, 112, 1], requires_grad=1, device=cpu) = onnx::Relu(%input.4) # /home/atharva/anaconda3/envs/torch-nightly/lib/python3.10/site-packages/torch/nn/functional.py:1438:0\n",
      "  %input.8 : Float(50, 64, 56, 56, strides=[200704, 3136, 56, 1], requires_grad=1, device=cpu) = onnx::MaxPool[kernel_shape=[3, 3], pads=[1, 1, 1, 1], strides=[2, 2]](%125) # /home/atharva/anaconda3/envs/torch-nightly/lib/python3.10/site-packages/torch/nn/functional.py:784:0\n",
      "  %input.16 : Float(50, 64, 56, 56, strides=[200704, 3136, 56, 1], requires_grad=1, device=cpu) = onnx::Conv[dilations=[1, 1], group=1, kernel_shape=[3, 3], pads=[1, 1, 1, 1], strides=[1, 1]](%input.8, %222, %223) # /home/atharva/anaconda3/envs/torch-nightly/lib/python3.10/site-packages/torch/nn/modules/conv.py:442:0\n",
      "  %129 : Float(50, 64, 56, 56, strides=[200704, 3136, 56, 1], requires_grad=1, device=cpu) = onnx::Relu(%input.16) # /home/atharva/anaconda3/envs/torch-nightly/lib/python3.10/site-packages/torch/nn/functional.py:1438:0\n",
      "  %224 : Float(50, 64, 56, 56, strides=[200704, 3136, 56, 1], requires_grad=1, device=cpu) = onnx::Conv[dilations=[1, 1], group=1, kernel_shape=[3, 3], pads=[1, 1, 1, 1], strides=[1, 1]](%129, %225, %226) # /home/atharva/anaconda3/envs/torch-nightly/lib/python3.10/site-packages/torch/nn/modules/conv.py:442:0\n",
      "  %132 : Float(50, 64, 56, 56, strides=[200704, 3136, 56, 1], requires_grad=1, device=cpu) = onnx::Add(%224, %input.8) # /home/atharva/anaconda3/envs/torch-nightly/lib/python3.10/site-packages/torchvision/models/resnet.py:94:0\n",
      "  %input.24 : Float(50, 64, 56, 56, strides=[200704, 3136, 56, 1], requires_grad=1, device=cpu) = onnx::Relu(%132) # /home/atharva/anaconda3/envs/torch-nightly/lib/python3.10/site-packages/torch/nn/functional.py:1438:0\n",
      "  %input.32 : Float(50, 64, 56, 56, strides=[200704, 3136, 56, 1], requires_grad=1, device=cpu) = onnx::Conv[dilations=[1, 1], group=1, kernel_shape=[3, 3], pads=[1, 1, 1, 1], strides=[1, 1]](%input.24, %228, %229) # /home/atharva/anaconda3/envs/torch-nightly/lib/python3.10/site-packages/torch/nn/modules/conv.py:442:0\n",
      "  %136 : Float(50, 64, 56, 56, strides=[200704, 3136, 56, 1], requires_grad=1, device=cpu) = onnx::Relu(%input.32) # /home/atharva/anaconda3/envs/torch-nightly/lib/python3.10/site-packages/torch/nn/functional.py:1438:0\n",
      "  %230 : Float(50, 64, 56, 56, strides=[200704, 3136, 56, 1], requires_grad=1, device=cpu) = onnx::Conv[dilations=[1, 1], group=1, kernel_shape=[3, 3], pads=[1, 1, 1, 1], strides=[1, 1]](%136, %231, %232) # /home/atharva/anaconda3/envs/torch-nightly/lib/python3.10/site-packages/torch/nn/modules/conv.py:442:0\n",
      "  %139 : Float(50, 64, 56, 56, strides=[200704, 3136, 56, 1], requires_grad=1, device=cpu) = onnx::Add(%230, %input.24) # /home/atharva/anaconda3/envs/torch-nightly/lib/python3.10/site-packages/torchvision/models/resnet.py:94:0\n",
      "  %input.40 : Float(50, 64, 56, 56, strides=[200704, 3136, 56, 1], requires_grad=1, device=cpu) = onnx::Relu(%139) # /home/atharva/anaconda3/envs/torch-nightly/lib/python3.10/site-packages/torch/nn/functional.py:1438:0\n",
      "  %pool1 : Float(50, 64, 1, 1, strides=[64, 1, 1, 1], requires_grad=1, device=cpu) = onnx::GlobalAveragePool(%input.40) # /home/atharva/anaconda3/envs/torch-nightly/lib/python3.10/site-packages/torch/nn/functional.py:1240:0\n",
      "  %input.48 : Float(50, 128, 28, 28, strides=[100352, 784, 28, 1], requires_grad=1, device=cpu) = onnx::Conv[dilations=[1, 1], group=1, kernel_shape=[3, 3], pads=[1, 1, 1, 1], strides=[2, 2]](%input.40, %234, %235) # /home/atharva/anaconda3/envs/torch-nightly/lib/python3.10/site-packages/torch/nn/modules/conv.py:442:0\n",
      "  %144 : Float(50, 128, 28, 28, strides=[100352, 784, 28, 1], requires_grad=1, device=cpu) = onnx::Relu(%input.48) # /home/atharva/anaconda3/envs/torch-nightly/lib/python3.10/site-packages/torch/nn/functional.py:1438:0\n",
      "  %236 : Float(50, 128, 28, 28, strides=[100352, 784, 28, 1], requires_grad=1, device=cpu) = onnx::Conv[dilations=[1, 1], group=1, kernel_shape=[3, 3], pads=[1, 1, 1, 1], strides=[1, 1]](%144, %237, %238) # /home/atharva/anaconda3/envs/torch-nightly/lib/python3.10/site-packages/torch/nn/modules/conv.py:442:0\n",
      "  %239 : Float(50, 128, 28, 28, strides=[100352, 784, 28, 1], requires_grad=1, device=cpu) = onnx::Conv[dilations=[1, 1], group=1, kernel_shape=[1, 1], pads=[0, 0, 0, 0], strides=[2, 2]](%input.40, %240, %241) # /home/atharva/anaconda3/envs/torch-nightly/lib/python3.10/site-packages/torch/nn/modules/conv.py:442:0\n",
      "  %149 : Float(50, 128, 28, 28, strides=[100352, 784, 28, 1], requires_grad=1, device=cpu) = onnx::Add(%236, %239) # /home/atharva/anaconda3/envs/torch-nightly/lib/python3.10/site-packages/torchvision/models/resnet.py:94:0\n",
      "  %input.60 : Float(50, 128, 28, 28, strides=[100352, 784, 28, 1], requires_grad=1, device=cpu) = onnx::Relu(%149) # /home/atharva/anaconda3/envs/torch-nightly/lib/python3.10/site-packages/torch/nn/functional.py:1438:0\n",
      "  %input.68 : Float(50, 128, 28, 28, strides=[100352, 784, 28, 1], requires_grad=1, device=cpu) = onnx::Conv[dilations=[1, 1], group=1, kernel_shape=[3, 3], pads=[1, 1, 1, 1], strides=[1, 1]](%input.60, %243, %244) # /home/atharva/anaconda3/envs/torch-nightly/lib/python3.10/site-packages/torch/nn/modules/conv.py:442:0\n",
      "  %153 : Float(50, 128, 28, 28, strides=[100352, 784, 28, 1], requires_grad=1, device=cpu) = onnx::Relu(%input.68) # /home/atharva/anaconda3/envs/torch-nightly/lib/python3.10/site-packages/torch/nn/functional.py:1438:0\n",
      "  %245 : Float(50, 128, 28, 28, strides=[100352, 784, 28, 1], requires_grad=1, device=cpu) = onnx::Conv[dilations=[1, 1], group=1, kernel_shape=[3, 3], pads=[1, 1, 1, 1], strides=[1, 1]](%153, %246, %247) # /home/atharva/anaconda3/envs/torch-nightly/lib/python3.10/site-packages/torch/nn/modules/conv.py:442:0\n",
      "  %156 : Float(50, 128, 28, 28, strides=[100352, 784, 28, 1], requires_grad=1, device=cpu) = onnx::Add(%245, %input.60) # /home/atharva/anaconda3/envs/torch-nightly/lib/python3.10/site-packages/torchvision/models/resnet.py:94:0\n",
      "  %input.76 : Float(50, 128, 28, 28, strides=[100352, 784, 28, 1], requires_grad=1, device=cpu) = onnx::Relu(%156) # /home/atharva/anaconda3/envs/torch-nightly/lib/python3.10/site-packages/torch/nn/functional.py:1438:0\n",
      "  %pool2 : Float(50, 128, 1, 1, strides=[128, 1, 1, 1], requires_grad=1, device=cpu) = onnx::GlobalAveragePool(%input.76) # /home/atharva/anaconda3/envs/torch-nightly/lib/python3.10/site-packages/torch/nn/functional.py:1240:0\n",
      "  %input.84 : Float(50, 256, 14, 14, strides=[50176, 196, 14, 1], requires_grad=1, device=cpu) = onnx::Conv[dilations=[1, 1], group=1, kernel_shape=[3, 3], pads=[1, 1, 1, 1], strides=[2, 2]](%input.76, %249, %250) # /home/atharva/anaconda3/envs/torch-nightly/lib/python3.10/site-packages/torch/nn/modules/conv.py:442:0\n",
      "  %161 : Float(50, 256, 14, 14, strides=[50176, 196, 14, 1], requires_grad=1, device=cpu) = onnx::Relu(%input.84) # /home/atharva/anaconda3/envs/torch-nightly/lib/python3.10/site-packages/torch/nn/functional.py:1438:0\n",
      "  %251 : Float(50, 256, 14, 14, strides=[50176, 196, 14, 1], requires_grad=1, device=cpu) = onnx::Conv[dilations=[1, 1], group=1, kernel_shape=[3, 3], pads=[1, 1, 1, 1], strides=[1, 1]](%161, %252, %253) # /home/atharva/anaconda3/envs/torch-nightly/lib/python3.10/site-packages/torch/nn/modules/conv.py:442:0\n",
      "  %254 : Float(50, 256, 14, 14, strides=[50176, 196, 14, 1], requires_grad=1, device=cpu) = onnx::Conv[dilations=[1, 1], group=1, kernel_shape=[1, 1], pads=[0, 0, 0, 0], strides=[2, 2]](%input.76, %255, %256) # /home/atharva/anaconda3/envs/torch-nightly/lib/python3.10/site-packages/torch/nn/modules/conv.py:442:0\n",
      "  %166 : Float(50, 256, 14, 14, strides=[50176, 196, 14, 1], requires_grad=1, device=cpu) = onnx::Add(%251, %254) # /home/atharva/anaconda3/envs/torch-nightly/lib/python3.10/site-packages/torchvision/models/resnet.py:94:0\n",
      "  %input.96 : Float(50, 256, 14, 14, strides=[50176, 196, 14, 1], requires_grad=1, device=cpu) = onnx::Relu(%166) # /home/atharva/anaconda3/envs/torch-nightly/lib/python3.10/site-packages/torch/nn/functional.py:1438:0\n",
      "  %input.104 : Float(50, 256, 14, 14, strides=[50176, 196, 14, 1], requires_grad=1, device=cpu) = onnx::Conv[dilations=[1, 1], group=1, kernel_shape=[3, 3], pads=[1, 1, 1, 1], strides=[1, 1]](%input.96, %258, %259) # /home/atharva/anaconda3/envs/torch-nightly/lib/python3.10/site-packages/torch/nn/modules/conv.py:442:0\n",
      "  %170 : Float(50, 256, 14, 14, strides=[50176, 196, 14, 1], requires_grad=1, device=cpu) = onnx::Relu(%input.104) # /home/atharva/anaconda3/envs/torch-nightly/lib/python3.10/site-packages/torch/nn/functional.py:1438:0\n",
      "  %260 : Float(50, 256, 14, 14, strides=[50176, 196, 14, 1], requires_grad=1, device=cpu) = onnx::Conv[dilations=[1, 1], group=1, kernel_shape=[3, 3], pads=[1, 1, 1, 1], strides=[1, 1]](%170, %261, %262) # /home/atharva/anaconda3/envs/torch-nightly/lib/python3.10/site-packages/torch/nn/modules/conv.py:442:0\n",
      "  %173 : Float(50, 256, 14, 14, strides=[50176, 196, 14, 1], requires_grad=1, device=cpu) = onnx::Add(%260, %input.96) # /home/atharva/anaconda3/envs/torch-nightly/lib/python3.10/site-packages/torchvision/models/resnet.py:94:0\n",
      "  %input.112 : Float(50, 256, 14, 14, strides=[50176, 196, 14, 1], requires_grad=1, device=cpu) = onnx::Relu(%173) # /home/atharva/anaconda3/envs/torch-nightly/lib/python3.10/site-packages/torch/nn/functional.py:1438:0\n",
      "  %pool3 : Float(50, 256, 1, 1, strides=[256, 1, 1, 1], requires_grad=1, device=cpu) = onnx::GlobalAveragePool(%input.112) # /home/atharva/anaconda3/envs/torch-nightly/lib/python3.10/site-packages/torch/nn/functional.py:1240:0\n",
      "  %input.120 : Float(50, 512, 7, 7, strides=[25088, 49, 7, 1], requires_grad=1, device=cpu) = onnx::Conv[dilations=[1, 1], group=1, kernel_shape=[3, 3], pads=[1, 1, 1, 1], strides=[2, 2]](%input.112, %264, %265) # /home/atharva/anaconda3/envs/torch-nightly/lib/python3.10/site-packages/torch/nn/modules/conv.py:442:0\n",
      "  %178 : Float(50, 512, 7, 7, strides=[25088, 49, 7, 1], requires_grad=1, device=cpu) = onnx::Relu(%input.120) # /home/atharva/anaconda3/envs/torch-nightly/lib/python3.10/site-packages/torch/nn/functional.py:1438:0\n",
      "  %266 : Float(50, 512, 7, 7, strides=[25088, 49, 7, 1], requires_grad=1, device=cpu) = onnx::Conv[dilations=[1, 1], group=1, kernel_shape=[3, 3], pads=[1, 1, 1, 1], strides=[1, 1]](%178, %267, %268) # /home/atharva/anaconda3/envs/torch-nightly/lib/python3.10/site-packages/torch/nn/modules/conv.py:442:0\n",
      "  %269 : Float(50, 512, 7, 7, strides=[25088, 49, 7, 1], requires_grad=1, device=cpu) = onnx::Conv[dilations=[1, 1], group=1, kernel_shape=[1, 1], pads=[0, 0, 0, 0], strides=[2, 2]](%input.112, %270, %271) # /home/atharva/anaconda3/envs/torch-nightly/lib/python3.10/site-packages/torch/nn/modules/conv.py:442:0\n",
      "  %183 : Float(50, 512, 7, 7, strides=[25088, 49, 7, 1], requires_grad=1, device=cpu) = onnx::Add(%266, %269) # /home/atharva/anaconda3/envs/torch-nightly/lib/python3.10/site-packages/torchvision/models/resnet.py:94:0\n",
      "  %input.132 : Float(50, 512, 7, 7, strides=[25088, 49, 7, 1], requires_grad=1, device=cpu) = onnx::Relu(%183) # /home/atharva/anaconda3/envs/torch-nightly/lib/python3.10/site-packages/torch/nn/functional.py:1438:0\n",
      "  %input.140 : Float(50, 512, 7, 7, strides=[25088, 49, 7, 1], requires_grad=1, device=cpu) = onnx::Conv[dilations=[1, 1], group=1, kernel_shape=[3, 3], pads=[1, 1, 1, 1], strides=[1, 1]](%input.132, %273, %274) # /home/atharva/anaconda3/envs/torch-nightly/lib/python3.10/site-packages/torch/nn/modules/conv.py:442:0\n",
      "  %187 : Float(50, 512, 7, 7, strides=[25088, 49, 7, 1], requires_grad=1, device=cpu) = onnx::Relu(%input.140) # /home/atharva/anaconda3/envs/torch-nightly/lib/python3.10/site-packages/torch/nn/functional.py:1438:0\n",
      "  %275 : Float(50, 512, 7, 7, strides=[25088, 49, 7, 1], requires_grad=1, device=cpu) = onnx::Conv[dilations=[1, 1], group=1, kernel_shape=[3, 3], pads=[1, 1, 1, 1], strides=[1, 1]](%187, %276, %277) # /home/atharva/anaconda3/envs/torch-nightly/lib/python3.10/site-packages/torch/nn/modules/conv.py:442:0\n",
      "  %190 : Float(50, 512, 7, 7, strides=[25088, 49, 7, 1], requires_grad=1, device=cpu) = onnx::Add(%275, %input.132) # /home/atharva/anaconda3/envs/torch-nightly/lib/python3.10/site-packages/torchvision/models/resnet.py:94:0\n",
      "  %input.148 : Float(50, 512, 7, 7, strides=[25088, 49, 7, 1], requires_grad=1, device=cpu) = onnx::Relu(%190) # /home/atharva/anaconda3/envs/torch-nightly/lib/python3.10/site-packages/torch/nn/functional.py:1438:0\n",
      "  %pool4 : Float(50, 512, 1, 1, strides=[512, 1, 1, 1], requires_grad=1, device=cpu) = onnx::GlobalAveragePool(%input.148) # /home/atharva/anaconda3/envs/torch-nightly/lib/python3.10/site-packages/torch/nn/functional.py:1240:0\n",
      "  %198 : Float(50, 64, strides=[64, 1], requires_grad=1, device=cpu) = onnx::Reshape(%pool1, %280) # /tmp/ipykernel_5381/3867273899.py:40:0\n",
      "  %204 : Float(50, 128, strides=[128, 1], requires_grad=1, device=cpu) = onnx::Reshape(%pool2, %283) # /tmp/ipykernel_5381/3867273899.py:40:0\n",
      "  %210 : Float(50, 256, strides=[256, 1], requires_grad=1, device=cpu) = onnx::Reshape(%pool3, %286) # /tmp/ipykernel_5381/3867273899.py:40:0\n",
      "  %216 : Float(50, 512, strides=[512, 1], requires_grad=1, device=cpu) = onnx::Reshape(%pool4, %289) # /tmp/ipykernel_5381/3867273899.py:40:0\n",
      "  %embedding : Float(*, *, strides=[512, 1], requires_grad=0, device=cpu) = mydomain::custom_average(%198, %204, %210, %216) # /tmp/ipykernel_5381/3867273899.py:42:0\n",
      "  return (%embedding)\n",
      "\n"
     ]
    }
   ],
   "source": [
    "def reduction(g, input_64, input_128, input_256, input_512):\n",
    "    return g.op(\"mydomain::custom_average\", input_64, input_128, input_256, input_512)\n",
    "\n",
    "from torch.onnx import register_custom_op_symbolic\n",
    "register_custom_op_symbolic('custom_namespace::custom_average', reduction, 9)\n",
    "\n",
    "dummy_input = torch.randn(50, 3, 224, 224)\n",
    "model = ReductionResnet()\n",
    "\n",
    "for image in dataloaders['resize']:\n",
    "  output = model(image)\n",
    "\n",
    "torch.onnx.export(model, \n",
    "                  dummy_input, \n",
    "                  'ReductionResnet.onnx',\n",
    "                   opset_version=9,\n",
    "                   verbose = True, \n",
    "                   input_names=['avgpool1', 'avgpool2', 'avgpool3', 'avgpool4'],\n",
    "                   output_names=['embedding'],\n",
    "                   custom_opsets={'custom_namespace': 2})"
   ]
  }
 ],
 "metadata": {
  "colab": {
   "name": "ReductionResnet.ipynb",
   "provenance": []
  },
  "kernelspec": {
   "display_name": "Python 3 (ipykernel)",
   "language": "python",
   "name": "python3"
  },
  "language_info": {
   "codemirror_mode": {
    "name": "ipython",
    "version": 3
   },
   "file_extension": ".py",
   "mimetype": "text/x-python",
   "name": "python",
   "nbconvert_exporter": "python",
   "pygments_lexer": "ipython3",
   "version": "3.10.4"
  }
 },
 "nbformat": 4,
 "nbformat_minor": 1
}
